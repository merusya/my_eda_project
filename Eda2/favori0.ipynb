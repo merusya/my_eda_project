{
 "cells": [
  {
   "cell_type": "code",
   "execution_count": null,
   "id": "5ff6eadb",
   "metadata": {},
   "outputs": [],
   "source": [
    "import numpy as np\n",
    "import pandas as pd\n",
    "import matplotlib.pyplot as plt\n",
    "import seaborn as sns\n",
    "import missingno as msno"
   ]
  },
  {
   "cell_type": "code",
   "execution_count": null,
   "id": "28977c81",
   "metadata": {},
   "outputs": [],
   "source": [
    "# to suppress unnecessary passive warnings (gereksiz pasif uyarıları bastırmak için)\n",
    "import warnings\n",
    "warnings.filterwarnings(\"ignore\")\n",
    "warnings.warn(\"this will not show\")"
   ]
  },
  {
   "cell_type": "code",
   "execution_count": null,
   "id": "f65881f8",
   "metadata": {},
   "outputs": [],
   "source": [
    "# to view all columns and rows (tüm sütunları ve satırları görüntülemek için)\n",
    "pd.set_option('display.max_columns', None)\n",
    "pd.set_option('display.max_rows', None)"
   ]
  },
  {
   "cell_type": "code",
   "execution_count": null,
   "id": "7145e15f",
   "metadata": {},
   "outputs": [],
   "source": [
    "msno.bar(df);"
   ]
  },
  {
   "cell_type": "code",
   "execution_count": null,
   "id": "e31ab605",
   "metadata": {},
   "outputs": [],
   "source": [
    "df.duplicated().sum()"
   ]
  },
  {
   "cell_type": "code",
   "execution_count": null,
   "id": "9f83ceff",
   "metadata": {},
   "outputs": [],
   "source": [
    "#Tekrarsız (ilk tekrar hariç), temiz, sıfırdan düzgün indeksli\n",
    "df = df.drop_duplicates(keep='first', inplace=True)"
   ]
  },
  {
   "cell_type": "code",
   "execution_count": null,
   "id": "0ae81266",
   "metadata": {},
   "outputs": [],
   "source": [
    "df['Opsys'] = df['Opsys'].str.lower().replace({\n",
    "    'windows 10': 'Windows',\n",
    "    'windows 10 s': 'Windows',\n",
    "    'windows 7': 'Windows',\n",
    "    'macos': 'Mac',\n",
    "    'mac os x': 'Mac',\n",
    "    'linux': 'Linux',\n",
    "    'chrome os': 'Chrome os',\n",
    "    'android': 'Android',\n",
    "    'no os': 'No os'\n",
    "})"
   ]
  },
  {
   "cell_type": "code",
   "execution_count": null,
   "id": "557a7722",
   "metadata": {},
   "outputs": [],
   "source": [
    "# We create extract function with def (def ile extract fonksiyonu oluşturuyoruz)\n",
    "def extract_resolution_label(text):\n",
    "    text = text.lower()\n",
    "    if '3840x2160' in text or '4k' in text:\n",
    "        return '4K'\n",
    "    elif '3200x1800' in text or 'quad hd' in text:\n",
    "        return 'Quad HD+'\n",
    "    elif '2560x1440' in text:\n",
    "        return 'QHD'\n",
    "    elif '1920x1200' in text:\n",
    "        return 'WUXGA'\n",
    "    elif '1920x1080' in text or 'full hd' in text:\n",
    "        return 'Full HD'\n",
    "    elif '1600x900' in text:\n",
    "        return 'HD+'\n",
    "    elif '1366x768' in text:\n",
    "        return 'HD'\n",
    "    elif '2560x1600' in text:\n",
    "        return 'WQXGA'\n",
    "    elif '2880x1800' in text or '2304x1440' in text:\n",
    "        return 'Retina'\n",
    "    elif '2256x1504' in text or '2736x1824' in text or '2400x1600' in text:\n",
    "        return 'Other High' \n",
    "    elif '1440x900' in text: \n",
    "        return 'WXGA+'\n",
    "    else:\n",
    "        return 'Other'"
   ]
  },
  {
   "cell_type": "code",
   "execution_count": null,
   "id": "8e9863f9",
   "metadata": {},
   "outputs": [],
   "source": [
    "# Extract label from Resolution column and create Resolution_Label column (Resolution sütunundan etiket çıkarıp Resolution_Label sütunu oluştur)\n",
    "df['Resolution_Label'] = df['Resolution'].apply(extract_resolution_label)"
   ]
  },
  {
   "cell_type": "code",
   "execution_count": null,
   "id": "51a7b03f",
   "metadata": {},
   "outputs": [],
   "source": [
    "# tauchscreen (Yes/No), create Touchscreen column (dokunmatik ekran (Evet/Hayır) olarak ayır,Touchscreen sütunu oluştur)\n",
    "df['Touchscreen'] = df['Resolution'].str.contains('Touchscreen|touchscreen', case=False).map({True: 'Yes', False: 'No'})"
   ]
  },
  {
   "cell_type": "code",
   "execution_count": null,
   "id": "183ec409",
   "metadata": {},
   "outputs": [],
   "source": [
    "# extract CPU brand with Regex and create Cpu_Brand column (regex ile CPU markasını çıkarıp Cpu_Brand sütunu oluştur)\n",
    "df['Cpu_Brand'] = df['Cpu'].str.extract(r'(^\\w+)')  # the first word . ilk kelimesini alır"
   ]
  },
  {
   "cell_type": "code",
   "execution_count": null,
   "id": "f30b25c6",
   "metadata": {},
   "outputs": [],
   "source": [
    "# extract CPU model with Regex and create Cpu_Type column (regex ile CPU modelini çıkarıp Cpu_Type sütunu oluştur)\n",
    "df['Cpu_Type'] = df['Cpu'].str.extract(r'(Core i[3579]|Celeron|Atom|Pentium|Xeon|Core M|Ryzen \\d{4}|A\\d{1,2}-Series|A\\d-Series|E-Series|FX)')\n",
    "# searches, finds, and takes. arar bulur ve alır."
   ]
  },
  {
   "cell_type": "code",
   "execution_count": null,
   "id": "8438b5b4",
   "metadata": {},
   "outputs": [],
   "source": [
    "df['Cpu_Type'] = df['Cpu_Type'].fillna('Other') # fill NaN values with 'Other' (NaN değerlerini 'Other' ile doldur)"
   ]
  }
 ],
 "metadata": {
  "language_info": {
   "name": "python"
  }
 },
 "nbformat": 4,
 "nbformat_minor": 5
}
